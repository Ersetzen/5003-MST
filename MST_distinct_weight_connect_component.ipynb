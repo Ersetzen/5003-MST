{
 "cells": [
  {
   "cell_type": "code",
   "execution_count": 1,
   "metadata": {},
   "outputs": [],
   "source": [
    "import time\n",
    "from pyspark import SparkContext\n",
    "sc = SparkContext('local')\n",
    "\n",
    "from pyspark.sql import SparkSession\n",
    "spark = SparkSession \\\n",
    "    .builder \\\n",
    "    .appName(\"Boruvka_MST_algorithm\") \\\n",
    "    .getOrCreate()\n",
    "sc.addPyFile(\"graphframes-0.6.0-spark2.3-s_2.11.jar\")\n",
    "sc.setCheckpointDir('./')\n",
    "\n",
    "from graphframes import *\n",
    "from pyspark.sql.functions import *"
   ]
  },
  {
   "cell_type": "code",
   "execution_count": 2,
   "metadata": {},
   "outputs": [],
   "source": [
    "path_to_file=\"2elt.edges\"\n",
    "edge_dataframe = sc.textFile(path_to_file)"
   ]
  },
  {
   "cell_type": "code",
   "execution_count": 3,
   "metadata": {},
   "outputs": [],
   "source": [
    "edge_dataframe = edge_dataframe.map(lambda line: line.split()).map(lambda edge: \\\n",
    "                                                                   (edge[0], int(edge[1]),int(edge[2])))"
   ]
  },
  {
   "cell_type": "code",
   "execution_count": 4,
   "metadata": {},
   "outputs": [],
   "source": [
    "begin_vex = edge_dataframe.map(lambda line: (line[0], line[0])).distinct()"
   ]
  },
  {
   "cell_type": "code",
   "execution_count": 5,
   "metadata": {},
   "outputs": [],
   "source": [
    "v = spark.createDataFrame(begin_vex.collect(), [\"id\", \"label\"])\n",
    "e = spark.createDataFrame(edge_dataframe.collect(), [\"src\", \"dst\", \"weight\"])\n",
    "\n",
    "# Create a GraphFrame\n",
    "g = GraphFrame(v, e)"
   ]
  },
  {
   "cell_type": "code",
   "execution_count": 6,
   "metadata": {},
   "outputs": [],
   "source": [
    "mst = spark.createDataFrame([['', '', '']], [\"src\", \"dst\", \"weight\"])"
   ]
  },
  {
   "cell_type": "code",
   "execution_count": 7,
   "metadata": {},
   "outputs": [],
   "source": [
    "start = time.clock()\n",
    "while g.vertices.select('label').distinct().count() > 1:\n",
    "    filter_df = g.find(\"(a)-[e]->(b)\").filter(\"a.label != b.label\").select(\"e.*\")\n",
    "    filter_df.cache()\n",
    "    inter_graph = GraphFrame(g.vertices, filter_df)\n",
    "    min_edges = inter_graph.triplets.groupBy('src.label').agg({'edge.weight': 'min'}).withColumnRenamed('min(edge.weight AS `weight`)', 'min_weight')\n",
    "\n",
    "    final_edges = min_edges.join(inter_graph.triplets, (min_edges.label == inter_graph.triplets.src.label) \\\n",
    "                             & (min_edges.min_weight == inter_graph.triplets.edge.weight)) \\\n",
    "                           .select(col('src.id').alias('src'), col('dst.id').alias('dst'), col('min_weight').alias('weight'))\n",
    "    final_edges.cache()\n",
    "    mst = mst.union(final_edges).distinct().filter(\"src != ''\")\n",
    "    mst.cache()\n",
    "    \n",
    "    mst_graph = GraphFrame(g.vertices, mst)\n",
    "    \n",
    "    res_vertices = mst_graph.connectedComponents(algorithm='graphx',checkpointInterval=2,broadcastThreshold=10000)\n",
    "    res_vertices = res_vertices.select(col('id').alias('id'), col('component').alias('label'))\n",
    "    res_vertices.cache()\n",
    "\n",
    "    g = GraphFrame(res_vertices, g.edges)\n",
    "    g.cache()\n",
    "elapsed = (time.clock() - start)"
   ]
  },
  {
   "cell_type": "code",
   "execution_count": 8,
   "metadata": {},
   "outputs": [
    {
     "name": "stdout",
     "output_type": "stream",
     "text": [
      "0.9436280000000001\n"
     ]
    }
   ],
   "source": [
    "print(elapsed)"
   ]
  },
  {
   "cell_type": "code",
   "execution_count": null,
   "metadata": {},
   "outputs": [],
   "source": []
  },
  {
   "cell_type": "code",
   "execution_count": null,
   "metadata": {},
   "outputs": [],
   "source": []
  },
  {
   "cell_type": "code",
   "execution_count": 9,
   "metadata": {},
   "outputs": [
    {
     "name": "stdout",
     "output_type": "stream",
     "text": [
      "+---+---+------+\n",
      "|src|dst|weight|\n",
      "+---+---+------+\n",
      "|  4|  2|     9|\n",
      "|  0|  9|     2|\n",
      "|  3|  2|     7|\n",
      "|  7|  4|    15|\n",
      "|  1|  9|     5|\n",
      "|  4|  8|     4|\n",
      "|  1|  2|     1|\n",
      "|  6|  4|    13|\n",
      "|  8|  4|     4|\n",
      "|  5|  0|     3|\n",
      "|  9|  0|     2|\n",
      "|  9|  1|     5|\n",
      "|  2|  1|     1|\n",
      "+---+---+------+\n",
      "\n"
     ]
    }
   ],
   "source": [
    "mst.show()"
   ]
  },
  {
   "cell_type": "code",
   "execution_count": null,
   "metadata": {},
   "outputs": [],
   "source": [
    "# labelPropagation"
   ]
  }
 ],
 "metadata": {
  "kernelspec": {
   "display_name": "Python 3",
   "language": "python",
   "name": "python3"
  },
  "language_info": {
   "codemirror_mode": {
    "name": "ipython",
    "version": 3
   },
   "file_extension": ".py",
   "mimetype": "text/x-python",
   "name": "python",
   "nbconvert_exporter": "python",
   "pygments_lexer": "ipython3",
   "version": "3.6.8"
  }
 },
 "nbformat": 4,
 "nbformat_minor": 2
}
